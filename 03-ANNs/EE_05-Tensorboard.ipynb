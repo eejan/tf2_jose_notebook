{
 "cells": [
  {
   "cell_type": "markdown",
   "metadata": {},
   "source": [
    "<a href=\"https://www.pieriandata.com\"><img src=\"../Pierian_Data_Logo.PNG\"></a>\n",
    "<strong><center>Copyright by Pierian Data Inc.</center></strong> \n",
    "<strong><center>Created by Jose Marcial Portilla.</center></strong>"
   ]
  },
  {
   "cell_type": "markdown",
   "metadata": {},
   "source": [
    "# Tensorboard\n",
    "\n",
    "---\n",
    "---\n",
    "\n",
    "**NOTE: You must watch the corresponding video to understand this lecture. This notebook can't serve as a full guide. Please watch the video BEFORE posting questions to the QA forum.**\n",
    "\n",
    "---\n",
    "---\n",
    "\n",
    "Let's explore the built in data visualization capabilities that come with Tensorboard.\n",
    "\n",
    "Full official tutorial available here: https://www.tensorflow.org/tensorboard/get_started\n",
    "\n",
    "## Data"
   ]
  },
  {
   "cell_type": "code",
   "execution_count": 1,
   "metadata": {},
   "outputs": [],
   "source": [
    "import pandas as pd\n",
    "import numpy as np"
   ]
  },
  {
   "cell_type": "code",
   "execution_count": 2,
   "metadata": {},
   "outputs": [],
   "source": [
    "df = pd.read_csv('../DATA/cancer_classification.csv')"
   ]
  },
  {
   "cell_type": "markdown",
   "metadata": {},
   "source": [
    "### Train Test Split"
   ]
  },
  {
   "cell_type": "code",
   "execution_count": 3,
   "metadata": {},
   "outputs": [],
   "source": [
    "X = df.drop('benign_0__mal_1',axis=1).values\n",
    "y = df['benign_0__mal_1'].values"
   ]
  },
  {
   "cell_type": "code",
   "execution_count": 4,
   "metadata": {},
   "outputs": [],
   "source": [
    "from sklearn.model_selection import train_test_split"
   ]
  },
  {
   "cell_type": "code",
   "execution_count": 5,
   "metadata": {},
   "outputs": [],
   "source": [
    "X_train, X_test, y_train, y_test = train_test_split(X,y,test_size=0.25,random_state=101)"
   ]
  },
  {
   "cell_type": "markdown",
   "metadata": {},
   "source": [
    "\n",
    "### Scaling Data"
   ]
  },
  {
   "cell_type": "code",
   "execution_count": 6,
   "metadata": {},
   "outputs": [],
   "source": [
    "from sklearn.preprocessing import MinMaxScaler"
   ]
  },
  {
   "cell_type": "code",
   "execution_count": 7,
   "metadata": {},
   "outputs": [],
   "source": [
    "scaler = MinMaxScaler()"
   ]
  },
  {
   "cell_type": "code",
   "execution_count": 8,
   "metadata": {},
   "outputs": [
    {
     "data": {
      "text/plain": [
       "MinMaxScaler(copy=True, feature_range=(0, 1))"
      ]
     },
     "execution_count": 8,
     "metadata": {},
     "output_type": "execute_result"
    }
   ],
   "source": [
    "scaler.fit(X_train)"
   ]
  },
  {
   "cell_type": "code",
   "execution_count": 9,
   "metadata": {},
   "outputs": [],
   "source": [
    "X_train = scaler.transform(X_train)\n",
    "X_test = scaler.transform(X_test)"
   ]
  },
  {
   "cell_type": "markdown",
   "metadata": {},
   "source": [
    "## Creating the Model"
   ]
  },
  {
   "cell_type": "code",
   "execution_count": 10,
   "metadata": {},
   "outputs": [
    {
     "name": "stderr",
     "output_type": "stream",
     "text": [
      "c:\\Anaconda3\\lib\\site-packages\\h5py\\__init__.py:40: UserWarning: h5py is running against HDF5 1.10.6 when it was built against 1.10.4, this may cause problems\n",
      "  '{0}.{1}.{2}'.format(*version.hdf5_built_version_tuple)\n"
     ]
    }
   ],
   "source": [
    "import tensorflow as tf\n",
    "from tensorflow.keras.models import Sequential\n",
    "from tensorflow.keras.layers import Dense, Activation,Dropout"
   ]
  },
  {
   "cell_type": "code",
   "execution_count": 11,
   "metadata": {},
   "outputs": [],
   "source": [
    "from tensorflow.keras.callbacks import EarlyStopping,TensorBoard"
   ]
  },
  {
   "cell_type": "code",
   "execution_count": 12,
   "metadata": {},
   "outputs": [],
   "source": [
    "early_stop = EarlyStopping(monitor='val_loss', mode='min', verbose=1, patience=25)"
   ]
  },
  {
   "cell_type": "code",
   "execution_count": 13,
   "metadata": {},
   "outputs": [
    {
     "data": {
      "text/plain": [
       "'D:\\\\ejan\\\\udemy\\\\TF2.0_jose\\\\TF_2_Notebooks_and_Data\\\\03-ANNs'"
      ]
     },
     "execution_count": 13,
     "metadata": {},
     "output_type": "execute_result"
    }
   ],
   "source": [
    "pwd"
   ]
  },
  {
   "cell_type": "markdown",
   "metadata": {},
   "source": [
    "## Creating the Tensorboard Callback\n",
    "\n",
    "TensorBoard is a visualization tool provided with TensorFlow.\n",
    "\n",
    "This callback logs events for TensorBoard, including:\n",
    "* Metrics summary plots\n",
    "* Training graph visualization\n",
    "* Activation histograms\n",
    "* Sampled profiling\n",
    "\n",
    "If you have installed TensorFlow with pip, you should be able\n",
    "to launch TensorBoard from the command line:\n",
    "\n",
    "```sh\n",
    "tensorboard --logdir=path_to_your_logs\n",
    "```\n",
    "\n",
    "You can find more information about TensorBoard\n",
    "[here](https://www.tensorflow.org/tensorboard/).\n",
    "\n",
    "    Arguments:\n",
    "        log_dir: the path of the directory where to save the log files to be\n",
    "          parsed by TensorBoard.\n",
    "        histogram_freq: frequency (in epochs) at which to compute activation and\n",
    "          weight histograms for the layers of the model. If set to 0, histograms\n",
    "          won't be computed. Validation data (or split) must be specified for\n",
    "          histogram visualizations.\n",
    "        write_graph: whether to visualize the graph in TensorBoard. The log file\n",
    "          can become quite large when write_graph is set to True.\n",
    "        write_images: whether to write model weights to visualize as image in\n",
    "          TensorBoard.\n",
    "        update_freq: `'batch'` or `'epoch'` or integer. When using `'batch'`,\n",
    "          writes the losses and metrics to TensorBoard after each batch. The same\n",
    "          applies for `'epoch'`. If using an integer, let's say `1000`, the\n",
    "          callback will write the metrics and losses to TensorBoard every 1000\n",
    "          samples. Note that writing too frequently to TensorBoard can slow down\n",
    "          your training.\n",
    "        profile_batch: Profile the batch to sample compute characteristics. By\n",
    "          default, it will profile the second batch. Set profile_batch=0 to\n",
    "          disable profiling. Must run in TensorFlow eager mode.\n",
    "        embeddings_freq: frequency (in epochs) at which embedding layers will\n",
    "          be visualized. If set to 0, embeddings won't be visualized.\n",
    "       "
   ]
  },
  {
   "cell_type": "code",
   "execution_count": 14,
   "metadata": {},
   "outputs": [],
   "source": [
    "from datetime import datetime"
   ]
  },
  {
   "cell_type": "code",
   "execution_count": 15,
   "metadata": {},
   "outputs": [
    {
     "data": {
      "text/plain": [
       "'2021-07-09--2116'"
      ]
     },
     "execution_count": 15,
     "metadata": {},
     "output_type": "execute_result"
    }
   ],
   "source": [
    "datetime.now().strftime(\"%Y-%m-%d--%H%M\")"
   ]
  },
  {
   "cell_type": "code",
   "execution_count": 20,
   "metadata": {},
   "outputs": [],
   "source": [
    "# WINDOWS: Use \"logs\\\\fit\"\n",
    "# MACOS/LINUX: Use \"logs\\fit\"\n",
    "\n",
    "log_directory = 'logs\\\\fit'\n",
    "\n",
    "# OPTIONAL: ADD A TIMESTAMP FOR UNIQUE FOLDER\n",
    "# timestamp = datetime.now().strftime(\"%Y-%m-%d--%H%M\")\n",
    "# log_directory = log_directory + '\\\\' + timestamp\n",
    "\n",
    "board = TensorBoard(log_dir=log_directory,histogram_freq=1,\n",
    "    write_graph=True,\n",
    "    write_images=True,\n",
    "    update_freq='epoch')\n",
    "#    profile_batch=2,\n",
    "#    embeddings_freq=1)\n",
    "\n",
    "#board = TensorBoard(log_dir=log_directory,histogram_freq=1,\n",
    "#    write_graph=True,\n",
    "#    write_images=True,\n",
    "#    update_freq='epoch',\n",
    "##    profile_batch=2,\n",
    "#    embeddings_freq=1)"
   ]
  },
  {
   "cell_type": "markdown",
   "metadata": {},
   "source": [
    "Now create the model layers:"
   ]
  },
  {
   "cell_type": "code",
   "execution_count": 21,
   "metadata": {},
   "outputs": [],
   "source": [
    "model = Sequential()\n",
    "model.add(Dense(units=30,activation='relu'))\n",
    "model.add(Dropout(0.5))\n",
    "model.add(Dense(units=15,activation='relu'))\n",
    "model.add(Dropout(0.5))\n",
    "model.add(Dense(units=1,activation='sigmoid'))\n",
    "model.compile(loss='binary_crossentropy', optimizer='adam')"
   ]
  },
  {
   "cell_type": "markdown",
   "metadata": {},
   "source": [
    "## Train the Model"
   ]
  },
  {
   "cell_type": "code",
   "execution_count": 22,
   "metadata": {},
   "outputs": [
    {
     "name": "stdout",
     "output_type": "stream",
     "text": [
      "Train on 426 samples, validate on 143 samples\n",
      "Epoch 1/600\n",
      "426/426 [==============================] - 0s 740us/sample - loss: 0.6973 - val_loss: 0.6644\n",
      "Epoch 2/600\n",
      "426/426 [==============================] - 0s 115us/sample - loss: 0.6708 - val_loss: 0.6467\n",
      "Epoch 3/600\n",
      "426/426 [==============================] - 0s 108us/sample - loss: 0.6495 - val_loss: 0.6321\n",
      "Epoch 4/600\n",
      "426/426 [==============================] - 0s 108us/sample - loss: 0.6199 - val_loss: 0.6146\n",
      "Epoch 5/600\n",
      "426/426 [==============================] - 0s 113us/sample - loss: 0.6316 - val_loss: 0.5953\n",
      "Epoch 6/600\n",
      "426/426 [==============================] - 0s 110us/sample - loss: 0.5934 - val_loss: 0.5772\n",
      "Epoch 7/600\n",
      "426/426 [==============================] - 0s 110us/sample - loss: 0.5974 - val_loss: 0.5579\n",
      "Epoch 8/600\n",
      "426/426 [==============================] - 0s 110us/sample - loss: 0.5755 - val_loss: 0.5363\n",
      "Epoch 9/600\n",
      "426/426 [==============================] - 0s 106us/sample - loss: 0.5479 - val_loss: 0.5141\n",
      "Epoch 10/600\n",
      "426/426 [==============================] - 0s 106us/sample - loss: 0.5468 - val_loss: 0.5003\n",
      "Epoch 11/600\n",
      "426/426 [==============================] - 0s 106us/sample - loss: 0.5363 - val_loss: 0.4783\n",
      "Epoch 12/600\n",
      "426/426 [==============================] - 0s 120us/sample - loss: 0.5120 - val_loss: 0.4598\n",
      "Epoch 13/600\n",
      "426/426 [==============================] - 0s 117us/sample - loss: 0.5032 - val_loss: 0.4373\n",
      "Epoch 14/600\n",
      "426/426 [==============================] - 0s 117us/sample - loss: 0.4873 - val_loss: 0.4195\n",
      "Epoch 15/600\n",
      "426/426 [==============================] - 0s 134us/sample - loss: 0.4449 - val_loss: 0.3993\n",
      "Epoch 16/600\n",
      "426/426 [==============================] - 0s 127us/sample - loss: 0.4450 - val_loss: 0.3763\n",
      "Epoch 17/600\n",
      "426/426 [==============================] - 0s 103us/sample - loss: 0.4272 - val_loss: 0.3567\n",
      "Epoch 18/600\n",
      "426/426 [==============================] - 0s 101us/sample - loss: 0.4196 - val_loss: 0.3392\n",
      "Epoch 19/600\n",
      "426/426 [==============================] - 0s 108us/sample - loss: 0.4257 - val_loss: 0.3246\n",
      "Epoch 20/600\n",
      "426/426 [==============================] - 0s 108us/sample - loss: 0.3898 - val_loss: 0.3071\n",
      "Epoch 21/600\n",
      "426/426 [==============================] - 0s 115us/sample - loss: 0.3857 - val_loss: 0.2944\n",
      "Epoch 22/600\n",
      "426/426 [==============================] - 0s 110us/sample - loss: 0.3964 - val_loss: 0.2821\n",
      "Epoch 23/600\n",
      "426/426 [==============================] - 0s 110us/sample - loss: 0.3856 - val_loss: 0.2736\n",
      "Epoch 24/600\n",
      "426/426 [==============================] - 0s 108us/sample - loss: 0.3457 - val_loss: 0.2664\n",
      "Epoch 25/600\n",
      "426/426 [==============================] - 0s 108us/sample - loss: 0.3694 - val_loss: 0.2587\n",
      "Epoch 26/600\n",
      "426/426 [==============================] - 0s 110us/sample - loss: 0.3817 - val_loss: 0.2545\n",
      "Epoch 27/600\n",
      "426/426 [==============================] - 0s 108us/sample - loss: 0.3838 - val_loss: 0.2533\n",
      "Epoch 28/600\n",
      "426/426 [==============================] - 0s 113us/sample - loss: 0.3659 - val_loss: 0.2548\n",
      "Epoch 29/600\n",
      "426/426 [==============================] - 0s 113us/sample - loss: 0.3466 - val_loss: 0.2451\n",
      "Epoch 30/600\n",
      "426/426 [==============================] - 0s 108us/sample - loss: 0.3313 - val_loss: 0.2350\n",
      "Epoch 31/600\n",
      "426/426 [==============================] - 0s 108us/sample - loss: 0.3666 - val_loss: 0.2297\n",
      "Epoch 32/600\n",
      "426/426 [==============================] - 0s 108us/sample - loss: 0.3228 - val_loss: 0.2241\n",
      "Epoch 33/600\n",
      "426/426 [==============================] - 0s 117us/sample - loss: 0.3193 - val_loss: 0.2137\n",
      "Epoch 34/600\n",
      "426/426 [==============================] - 0s 115us/sample - loss: 0.3292 - val_loss: 0.2051\n",
      "Epoch 35/600\n",
      "426/426 [==============================] - 0s 108us/sample - loss: 0.3246 - val_loss: 0.2057\n",
      "Epoch 36/600\n",
      "426/426 [==============================] - 0s 113us/sample - loss: 0.3229 - val_loss: 0.2025\n",
      "Epoch 37/600\n",
      "426/426 [==============================] - 0s 108us/sample - loss: 0.2927 - val_loss: 0.1955\n",
      "Epoch 38/600\n",
      "426/426 [==============================] - 0s 108us/sample - loss: 0.2786 - val_loss: 0.1892\n",
      "Epoch 39/600\n",
      "426/426 [==============================] - 0s 108us/sample - loss: 0.2992 - val_loss: 0.1830\n",
      "Epoch 40/600\n",
      "426/426 [==============================] - 0s 110us/sample - loss: 0.2933 - val_loss: 0.1782\n",
      "Epoch 41/600\n",
      "426/426 [==============================] - 0s 108us/sample - loss: 0.2764 - val_loss: 0.1775\n",
      "Epoch 42/600\n",
      "426/426 [==============================] - 0s 110us/sample - loss: 0.2669 - val_loss: 0.1767\n",
      "Epoch 43/600\n",
      "426/426 [==============================] - 0s 110us/sample - loss: 0.2936 - val_loss: 0.1800\n",
      "Epoch 44/600\n",
      "426/426 [==============================] - 0s 113us/sample - loss: 0.2490 - val_loss: 0.1731\n",
      "Epoch 45/600\n",
      "426/426 [==============================] - 0s 110us/sample - loss: 0.2689 - val_loss: 0.1645\n",
      "Epoch 46/600\n",
      "426/426 [==============================] - 0s 110us/sample - loss: 0.2534 - val_loss: 0.1587\n",
      "Epoch 47/600\n",
      "426/426 [==============================] - 0s 110us/sample - loss: 0.2486 - val_loss: 0.1564\n",
      "Epoch 48/600\n",
      "426/426 [==============================] - 0s 108us/sample - loss: 0.2439 - val_loss: 0.1495\n",
      "Epoch 49/600\n",
      "426/426 [==============================] - 0s 108us/sample - loss: 0.2570 - val_loss: 0.1496\n",
      "Epoch 50/600\n",
      "426/426 [==============================] - 0s 106us/sample - loss: 0.2451 - val_loss: 0.1498\n",
      "Epoch 51/600\n",
      "426/426 [==============================] - 0s 106us/sample - loss: 0.2326 - val_loss: 0.1468\n",
      "Epoch 52/600\n",
      "426/426 [==============================] - 0s 106us/sample - loss: 0.2204 - val_loss: 0.1441\n",
      "Epoch 53/600\n",
      "426/426 [==============================] - 0s 106us/sample - loss: 0.2276 - val_loss: 0.1405\n",
      "Epoch 54/600\n",
      "426/426 [==============================] - 0s 115us/sample - loss: 0.2322 - val_loss: 0.1360\n",
      "Epoch 55/600\n",
      "426/426 [==============================] - 0s 113us/sample - loss: 0.2647 - val_loss: 0.1396\n",
      "Epoch 56/600\n",
      "426/426 [==============================] - 0s 113us/sample - loss: 0.1995 - val_loss: 0.1333\n",
      "Epoch 57/600\n",
      "426/426 [==============================] - 0s 106us/sample - loss: 0.2108 - val_loss: 0.1286\n",
      "Epoch 58/600\n",
      "426/426 [==============================] - 0s 106us/sample - loss: 0.2020 - val_loss: 0.1305\n",
      "Epoch 59/600\n",
      "426/426 [==============================] - 0s 108us/sample - loss: 0.2122 - val_loss: 0.1285\n",
      "Epoch 60/600\n",
      "426/426 [==============================] - 0s 113us/sample - loss: 0.2086 - val_loss: 0.1271\n",
      "Epoch 61/600\n",
      "426/426 [==============================] - 0s 113us/sample - loss: 0.1964 - val_loss: 0.1250\n",
      "Epoch 62/600\n",
      "426/426 [==============================] - 0s 113us/sample - loss: 0.2032 - val_loss: 0.1228\n",
      "Epoch 63/600\n",
      "426/426 [==============================] - 0s 115us/sample - loss: 0.1956 - val_loss: 0.1233\n",
      "Epoch 64/600\n",
      "426/426 [==============================] - 0s 110us/sample - loss: 0.2072 - val_loss: 0.1253\n",
      "Epoch 65/600\n",
      "426/426 [==============================] - 0s 115us/sample - loss: 0.1876 - val_loss: 0.1219\n",
      "Epoch 66/600\n",
      "426/426 [==============================] - 0s 115us/sample - loss: 0.1902 - val_loss: 0.1198\n",
      "Epoch 67/600\n",
      "426/426 [==============================] - 0s 113us/sample - loss: 0.2015 - val_loss: 0.1271\n",
      "Epoch 68/600\n",
      "426/426 [==============================] - 0s 113us/sample - loss: 0.2006 - val_loss: 0.1255\n",
      "Epoch 69/600\n",
      "426/426 [==============================] - 0s 108us/sample - loss: 0.2004 - val_loss: 0.1254\n",
      "Epoch 70/600\n",
      "426/426 [==============================] - 0s 115us/sample - loss: 0.1982 - val_loss: 0.1205\n",
      "Epoch 71/600\n",
      "426/426 [==============================] - 0s 108us/sample - loss: 0.1941 - val_loss: 0.1193\n",
      "Epoch 72/600\n",
      "426/426 [==============================] - 0s 108us/sample - loss: 0.1980 - val_loss: 0.1223\n",
      "Epoch 73/600\n",
      "426/426 [==============================] - 0s 110us/sample - loss: 0.1763 - val_loss: 0.1241\n",
      "Epoch 74/600\n",
      "426/426 [==============================] - 0s 108us/sample - loss: 0.2031 - val_loss: 0.1221\n",
      "Epoch 75/600\n",
      "426/426 [==============================] - 0s 115us/sample - loss: 0.1796 - val_loss: 0.1200\n",
      "Epoch 76/600\n",
      "426/426 [==============================] - 0s 115us/sample - loss: 0.2017 - val_loss: 0.1294\n",
      "Epoch 77/600\n",
      "426/426 [==============================] - 0s 108us/sample - loss: 0.1862 - val_loss: 0.1231\n"
     ]
    },
    {
     "name": "stdout",
     "output_type": "stream",
     "text": [
      "Epoch 78/600\n",
      "426/426 [==============================] - 0s 106us/sample - loss: 0.1850 - val_loss: 0.1227\n",
      "Epoch 79/600\n",
      "426/426 [==============================] - 0s 106us/sample - loss: 0.1497 - val_loss: 0.1193\n",
      "Epoch 80/600\n",
      "426/426 [==============================] - 0s 108us/sample - loss: 0.2030 - val_loss: 0.1168\n",
      "Epoch 81/600\n",
      "426/426 [==============================] - 0s 108us/sample - loss: 0.1738 - val_loss: 0.1168\n",
      "Epoch 82/600\n",
      "426/426 [==============================] - 0s 106us/sample - loss: 0.1817 - val_loss: 0.1196\n",
      "Epoch 83/600\n",
      "426/426 [==============================] - 0s 106us/sample - loss: 0.1764 - val_loss: 0.1134\n",
      "Epoch 84/600\n",
      "426/426 [==============================] - 0s 110us/sample - loss: 0.1665 - val_loss: 0.1111\n",
      "Epoch 85/600\n",
      "426/426 [==============================] - 0s 106us/sample - loss: 0.1744 - val_loss: 0.1117\n",
      "Epoch 86/600\n",
      "426/426 [==============================] - 0s 113us/sample - loss: 0.1622 - val_loss: 0.1138\n",
      "Epoch 87/600\n",
      "426/426 [==============================] - 0s 113us/sample - loss: 0.1539 - val_loss: 0.1135\n",
      "Epoch 88/600\n",
      "426/426 [==============================] - 0s 108us/sample - loss: 0.1576 - val_loss: 0.1126\n",
      "Epoch 89/600\n",
      "426/426 [==============================] - 0s 110us/sample - loss: 0.1518 - val_loss: 0.1130\n",
      "Epoch 90/600\n",
      "426/426 [==============================] - 0s 106us/sample - loss: 0.1766 - val_loss: 0.1160\n",
      "Epoch 91/600\n",
      "426/426 [==============================] - 0s 113us/sample - loss: 0.1604 - val_loss: 0.1150\n",
      "Epoch 92/600\n",
      "426/426 [==============================] - 0s 113us/sample - loss: 0.1632 - val_loss: 0.1102\n",
      "Epoch 93/600\n",
      "426/426 [==============================] - 0s 110us/sample - loss: 0.1856 - val_loss: 0.1120\n",
      "Epoch 94/600\n",
      "426/426 [==============================] - 0s 115us/sample - loss: 0.1761 - val_loss: 0.1100\n",
      "Epoch 95/600\n",
      "426/426 [==============================] - 0s 108us/sample - loss: 0.1646 - val_loss: 0.1088\n",
      "Epoch 96/600\n",
      "426/426 [==============================] - 0s 110us/sample - loss: 0.1579 - val_loss: 0.1110\n",
      "Epoch 97/600\n",
      "426/426 [==============================] - 0s 115us/sample - loss: 0.1627 - val_loss: 0.1077\n",
      "Epoch 98/600\n",
      "426/426 [==============================] - 0s 113us/sample - loss: 0.1435 - val_loss: 0.1100\n",
      "Epoch 99/600\n",
      "426/426 [==============================] - 0s 106us/sample - loss: 0.1636 - val_loss: 0.1148\n",
      "Epoch 100/600\n",
      "426/426 [==============================] - 0s 110us/sample - loss: 0.1770 - val_loss: 0.1179\n",
      "Epoch 101/600\n",
      "426/426 [==============================] - 0s 110us/sample - loss: 0.1513 - val_loss: 0.1136\n",
      "Epoch 102/600\n",
      "426/426 [==============================] - 0s 275us/sample - loss: 0.1600 - val_loss: 0.1101\n",
      "Epoch 103/600\n",
      "426/426 [==============================] - 0s 272us/sample - loss: 0.1333 - val_loss: 0.1112\n",
      "Epoch 104/600\n",
      "426/426 [==============================] - 0s 115us/sample - loss: 0.1531 - val_loss: 0.1131\n",
      "Epoch 105/600\n",
      "426/426 [==============================] - 0s 115us/sample - loss: 0.1465 - val_loss: 0.1075\n",
      "Epoch 106/600\n",
      "426/426 [==============================] - 0s 115us/sample - loss: 0.1474 - val_loss: 0.1075\n",
      "Epoch 107/600\n",
      "426/426 [==============================] - 0s 113us/sample - loss: 0.1470 - val_loss: 0.1100\n",
      "Epoch 108/600\n",
      "426/426 [==============================] - 0s 110us/sample - loss: 0.1418 - val_loss: 0.1096\n",
      "Epoch 109/600\n",
      "426/426 [==============================] - 0s 111us/sample - loss: 0.1312 - val_loss: 0.1080\n",
      "Epoch 110/600\n",
      "426/426 [==============================] - 0s 113us/sample - loss: 0.1308 - val_loss: 0.1071\n",
      "Epoch 111/600\n",
      "426/426 [==============================] - 0s 108us/sample - loss: 0.1241 - val_loss: 0.1060\n",
      "Epoch 112/600\n",
      "426/426 [==============================] - 0s 108us/sample - loss: 0.1533 - val_loss: 0.1112\n",
      "Epoch 113/600\n",
      "426/426 [==============================] - 0s 113us/sample - loss: 0.1453 - val_loss: 0.1120\n",
      "Epoch 114/600\n",
      "426/426 [==============================] - 0s 106us/sample - loss: 0.1276 - val_loss: 0.1093\n",
      "Epoch 115/600\n",
      "426/426 [==============================] - 0s 115us/sample - loss: 0.1201 - val_loss: 0.1050\n",
      "Epoch 116/600\n",
      "426/426 [==============================] - 0s 115us/sample - loss: 0.1265 - val_loss: 0.1061\n",
      "Epoch 117/600\n",
      "426/426 [==============================] - 0s 110us/sample - loss: 0.1340 - val_loss: 0.1098\n",
      "Epoch 118/600\n",
      "426/426 [==============================] - 0s 110us/sample - loss: 0.1333 - val_loss: 0.1114\n",
      "Epoch 119/600\n",
      "426/426 [==============================] - 0s 106us/sample - loss: 0.1409 - val_loss: 0.1113\n",
      "Epoch 120/600\n",
      "426/426 [==============================] - 0s 110us/sample - loss: 0.1310 - val_loss: 0.1065\n",
      "Epoch 121/600\n",
      "426/426 [==============================] - 0s 117us/sample - loss: 0.1374 - val_loss: 0.1108\n",
      "Epoch 122/600\n",
      "426/426 [==============================] - 0s 110us/sample - loss: 0.1408 - val_loss: 0.1123\n",
      "Epoch 123/600\n",
      "426/426 [==============================] - 0s 108us/sample - loss: 0.1391 - val_loss: 0.1170\n",
      "Epoch 124/600\n",
      "426/426 [==============================] - 0s 108us/sample - loss: 0.1378 - val_loss: 0.1149\n",
      "Epoch 125/600\n",
      "426/426 [==============================] - 0s 110us/sample - loss: 0.1340 - val_loss: 0.1079\n",
      "Epoch 126/600\n",
      "426/426 [==============================] - 0s 113us/sample - loss: 0.1399 - val_loss: 0.1069\n",
      "Epoch 127/600\n",
      "426/426 [==============================] - 0s 108us/sample - loss: 0.1088 - val_loss: 0.1133\n",
      "Epoch 128/600\n",
      "426/426 [==============================] - 0s 115us/sample - loss: 0.1268 - val_loss: 0.1066\n",
      "Epoch 129/600\n",
      "426/426 [==============================] - 0s 113us/sample - loss: 0.1272 - val_loss: 0.1127\n",
      "Epoch 130/600\n",
      "426/426 [==============================] - 0s 108us/sample - loss: 0.1308 - val_loss: 0.1102\n",
      "Epoch 131/600\n",
      "426/426 [==============================] - 0s 110us/sample - loss: 0.1312 - val_loss: 0.1075\n",
      "Epoch 132/600\n",
      "426/426 [==============================] - 0s 113us/sample - loss: 0.1141 - val_loss: 0.1064\n",
      "Epoch 133/600\n",
      "426/426 [==============================] - 0s 113us/sample - loss: 0.1039 - val_loss: 0.1134\n",
      "Epoch 134/600\n",
      "426/426 [==============================] - 0s 108us/sample - loss: 0.1389 - val_loss: 0.1151\n",
      "Epoch 135/600\n",
      "426/426 [==============================] - 0s 108us/sample - loss: 0.1350 - val_loss: 0.1083\n",
      "Epoch 136/600\n",
      "426/426 [==============================] - 0s 113us/sample - loss: 0.1339 - val_loss: 0.1078\n",
      "Epoch 137/600\n",
      "426/426 [==============================] - 0s 113us/sample - loss: 0.1352 - val_loss: 0.1097\n",
      "Epoch 138/600\n",
      "426/426 [==============================] - 0s 106us/sample - loss: 0.1186 - val_loss: 0.1148\n",
      "Epoch 139/600\n",
      "426/426 [==============================] - 0s 110us/sample - loss: 0.1069 - val_loss: 0.1194\n",
      "Epoch 140/600\n",
      "426/426 [==============================] - 0s 113us/sample - loss: 0.1225 - val_loss: 0.1091\n",
      "Epoch 00140: early stopping\n"
     ]
    },
    {
     "data": {
      "text/plain": [
       "<tensorflow.python.keras.callbacks.History at 0x11b54ab1470>"
      ]
     },
     "execution_count": 22,
     "metadata": {},
     "output_type": "execute_result"
    }
   ],
   "source": [
    "model.fit(x=X_train, \n",
    "          y=y_train, \n",
    "          epochs=600,\n",
    "          validation_data=(X_test, y_test), verbose=1,\n",
    "          callbacks=[early_stop,board]\n",
    "          )"
   ]
  },
  {
   "cell_type": "markdown",
   "metadata": {},
   "source": [
    "# Running Tensorboard\n"
   ]
  },
  {
   "cell_type": "markdown",
   "metadata": {},
   "source": [
    "## Running through the Command Line\n",
    "\n",
    "**Watch video to see how to run Tensorboard through a command line call.**"
   ]
  },
  {
   "cell_type": "markdown",
   "metadata": {},
   "source": [
    "Tensorboard will run locally in your browser at [http://localhost:6006/](http://localhost:6006/)\n"
   ]
  },
  {
   "cell_type": "code",
   "execution_count": 19,
   "metadata": {},
   "outputs": [
    {
     "name": "stdout",
     "output_type": "stream",
     "text": [
      "logs\\fit\n"
     ]
    }
   ],
   "source": [
    "print(log_directory)"
   ]
  },
  {
   "cell_type": "code",
   "execution_count": 20,
   "metadata": {},
   "outputs": [
    {
     "data": {
      "text/plain": [
       "'C:\\\\Users\\\\Marcial\\\\Pierian-Data-Courses\\\\TensorFlow-Two-Bootcamp\\\\03-ANNs'"
      ]
     },
     "execution_count": 20,
     "metadata": {},
     "output_type": "execute_result"
    }
   ],
   "source": [
    "pwd"
   ]
  },
  {
   "cell_type": "markdown",
   "metadata": {},
   "source": [
    "### Use cd at your command line to change directory to the file path reported back by pwd or your current .py file location.\n",
    "### Then run this code at your command line or terminal"
   ]
  },
  {
   "cell_type": "code",
   "execution_count": null,
   "metadata": {},
   "outputs": [],
   "source": [
    "tensorboard --logdir logs\\fit "
   ]
  }
 ],
 "metadata": {
  "kernelspec": {
   "display_name": "Python 3",
   "language": "python",
   "name": "python3"
  },
  "language_info": {
   "codemirror_mode": {
    "name": "ipython",
    "version": 3
   },
   "file_extension": ".py",
   "mimetype": "text/x-python",
   "name": "python",
   "nbconvert_exporter": "python",
   "pygments_lexer": "ipython3",
   "version": "3.6.9"
  }
 },
 "nbformat": 4,
 "nbformat_minor": 2
}
